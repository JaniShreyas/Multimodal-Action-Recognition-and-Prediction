{
 "cells": [
  {
   "cell_type": "code",
   "execution_count": 1,
   "metadata": {},
   "outputs": [],
   "source": [
    "import sys\n",
    "import os\n",
    "\n",
    "# Add the project root to sys.path\n",
    "sys.path.append(os.path.abspath(os.path.join(os.path.abspath(''), \"..\")))"
   ]
  },
  {
   "cell_type": "code",
   "execution_count": 2,
   "metadata": {},
   "outputs": [],
   "source": [
    "from src.dataset import EpicKitchens100Dataset"
   ]
  },
  {
   "cell_type": "code",
   "execution_count": 3,
   "metadata": {},
   "outputs": [
    {
     "data": {
      "text/plain": [
       "tensor([[[[ 3,  3,  3,  ...,  4,  4,  4],\n",
       "          [ 3,  3,  3,  ...,  4,  4,  4],\n",
       "          [ 3,  3,  3,  ...,  4,  4,  4],\n",
       "          ...,\n",
       "          [ 3,  3,  3,  ...,  1, 12, 21],\n",
       "          [ 3,  3,  3,  ..., 12, 30, 45],\n",
       "          [ 3,  3,  3,  ..., 21, 44, 62]],\n",
       "\n",
       "         [[ 0,  0,  0,  ...,  0,  0,  0],\n",
       "          [ 0,  0,  0,  ...,  0,  0,  0],\n",
       "          [ 0,  0,  0,  ...,  0,  0,  0],\n",
       "          ...,\n",
       "          [ 0,  0,  0,  ...,  0, 10, 19],\n",
       "          [ 0,  0,  0,  ..., 10, 28, 43],\n",
       "          [ 0,  0,  0,  ..., 19, 42, 60]],\n",
       "\n",
       "         [[ 4,  4,  4,  ...,  3,  3,  3],\n",
       "          [ 4,  4,  4,  ...,  3,  3,  3],\n",
       "          [ 4,  4,  4,  ...,  3,  3,  3],\n",
       "          ...,\n",
       "          [ 2,  2,  2,  ...,  2, 13, 22],\n",
       "          [ 2,  2,  2,  ..., 13, 31, 46],\n",
       "          [ 2,  2,  2,  ..., 22, 45, 63]]],\n",
       "\n",
       "\n",
       "        [[[ 3,  3,  3,  ...,  5,  5,  5],\n",
       "          [ 3,  3,  3,  ...,  5,  5,  5],\n",
       "          [ 3,  3,  3,  ...,  5,  5,  5],\n",
       "          ...,\n",
       "          [ 3,  3,  3,  ..., 65, 73, 60],\n",
       "          [ 3,  3,  3,  ..., 71, 58, 29],\n",
       "          [ 3,  3,  3,  ..., 55, 28,  1]],\n",
       "\n",
       "         [[ 0,  0,  0,  ...,  0,  0,  0],\n",
       "          [ 0,  0,  0,  ...,  0,  0,  0],\n",
       "          [ 0,  0,  0,  ...,  0,  0,  0],\n",
       "          ...,\n",
       "          [ 0,  0,  0,  ..., 63, 71, 58],\n",
       "          [ 0,  0,  0,  ..., 69, 56, 27],\n",
       "          [ 0,  0,  0,  ..., 53, 26,  0]],\n",
       "\n",
       "         [[ 4,  4,  4,  ...,  4,  4,  4],\n",
       "          [ 4,  4,  4,  ...,  4,  4,  4],\n",
       "          [ 4,  4,  4,  ...,  4,  4,  4],\n",
       "          ...,\n",
       "          [ 4,  4,  4,  ..., 66, 74, 61],\n",
       "          [ 4,  4,  4,  ..., 72, 59, 30],\n",
       "          [ 4,  4,  4,  ..., 56, 29,  2]]],\n",
       "\n",
       "\n",
       "        [[[ 3,  3,  3,  ...,  5,  5,  5],\n",
       "          [ 3,  3,  3,  ...,  5,  5,  5],\n",
       "          [ 3,  3,  3,  ...,  5,  5,  5],\n",
       "          ...,\n",
       "          [ 3,  3,  3,  ..., 62, 71, 63],\n",
       "          [ 3,  3,  3,  ..., 70, 53, 29],\n",
       "          [ 3,  3,  3,  ..., 61, 28,  1]],\n",
       "\n",
       "         [[ 0,  0,  0,  ...,  0,  0,  0],\n",
       "          [ 0,  0,  0,  ...,  0,  0,  0],\n",
       "          [ 0,  0,  0,  ...,  0,  0,  0],\n",
       "          ...,\n",
       "          [ 0,  0,  0,  ..., 60, 69, 61],\n",
       "          [ 0,  0,  0,  ..., 68, 51, 27],\n",
       "          [ 0,  0,  0,  ..., 59, 26,  0]],\n",
       "\n",
       "         [[ 4,  4,  4,  ...,  4,  4,  4],\n",
       "          [ 4,  4,  4,  ...,  4,  4,  4],\n",
       "          [ 4,  4,  4,  ...,  4,  4,  4],\n",
       "          ...,\n",
       "          [ 4,  4,  4,  ..., 63, 72, 64],\n",
       "          [ 4,  4,  4,  ..., 71, 54, 30],\n",
       "          [ 4,  4,  4,  ..., 62, 29,  2]]],\n",
       "\n",
       "\n",
       "        ...,\n",
       "\n",
       "\n",
       "        [[[ 3,  3,  3,  ...,  9,  8,  8],\n",
       "          [ 3,  3,  3,  ...,  8,  8,  8],\n",
       "          [ 3,  3,  3,  ...,  8,  8,  7],\n",
       "          ...,\n",
       "          [ 3,  3,  3,  ...,  3,  3,  3],\n",
       "          [ 3,  3,  3,  ...,  3,  3,  3],\n",
       "          [ 3,  3,  3,  ...,  3,  3,  3]],\n",
       "\n",
       "         [[ 0,  0,  0,  ...,  4,  3,  3],\n",
       "          [ 0,  0,  0,  ...,  3,  3,  3],\n",
       "          [ 0,  0,  0,  ...,  3,  3,  2],\n",
       "          ...,\n",
       "          [ 0,  0,  0,  ...,  0,  0,  0],\n",
       "          [ 0,  0,  0,  ...,  0,  0,  0],\n",
       "          [ 0,  0,  0,  ...,  0,  0,  0]],\n",
       "\n",
       "         [[ 4,  4,  4,  ...,  8,  7,  7],\n",
       "          [ 4,  4,  4,  ...,  7,  7,  7],\n",
       "          [ 4,  4,  4,  ...,  7,  7,  6],\n",
       "          ...,\n",
       "          [ 4,  4,  4,  ...,  4,  4,  4],\n",
       "          [ 4,  4,  4,  ...,  4,  4,  4],\n",
       "          [ 4,  4,  4,  ...,  4,  4,  4]]],\n",
       "\n",
       "\n",
       "        [[[ 3,  3,  3,  ..., 16, 17, 17],\n",
       "          [ 3,  3,  3,  ..., 17, 17, 17],\n",
       "          [ 3,  3,  3,  ..., 17, 17, 18],\n",
       "          ...,\n",
       "          [ 3,  3,  3,  ...,  3,  3,  3],\n",
       "          [ 3,  3,  3,  ...,  3,  3,  3],\n",
       "          [ 3,  3,  3,  ...,  3,  3,  3]],\n",
       "\n",
       "         [[ 0,  0,  0,  ..., 12, 13, 13],\n",
       "          [ 0,  0,  0,  ..., 13, 13, 13],\n",
       "          [ 0,  0,  0,  ..., 13, 13, 14],\n",
       "          ...,\n",
       "          [ 0,  0,  0,  ...,  0,  0,  0],\n",
       "          [ 0,  0,  0,  ...,  0,  0,  0],\n",
       "          [ 0,  0,  0,  ...,  0,  0,  0]],\n",
       "\n",
       "         [[ 4,  4,  4,  ..., 13, 14, 14],\n",
       "          [ 4,  4,  4,  ..., 14, 14, 14],\n",
       "          [ 4,  4,  4,  ..., 14, 14, 15],\n",
       "          ...,\n",
       "          [ 4,  4,  4,  ...,  4,  4,  4],\n",
       "          [ 4,  4,  4,  ...,  4,  4,  4],\n",
       "          [ 4,  4,  4,  ...,  4,  4,  4]]],\n",
       "\n",
       "\n",
       "        [[[ 3,  3,  3,  ..., 17, 18, 18],\n",
       "          [ 3,  3,  3,  ..., 18, 18, 18],\n",
       "          [ 3,  3,  3,  ..., 18, 18, 19],\n",
       "          ...,\n",
       "          [ 3,  3,  3,  ...,  3,  3,  3],\n",
       "          [ 3,  3,  3,  ...,  3,  3,  3],\n",
       "          [ 3,  3,  3,  ...,  3,  3,  3]],\n",
       "\n",
       "         [[ 0,  0,  0,  ..., 13, 14, 14],\n",
       "          [ 0,  0,  0,  ..., 14, 14, 14],\n",
       "          [ 0,  0,  0,  ..., 14, 14, 15],\n",
       "          ...,\n",
       "          [ 0,  0,  0,  ...,  0,  0,  0],\n",
       "          [ 0,  0,  0,  ...,  0,  0,  0],\n",
       "          [ 0,  0,  0,  ...,  0,  0,  0]],\n",
       "\n",
       "         [[ 4,  4,  4,  ..., 14, 15, 15],\n",
       "          [ 4,  4,  4,  ..., 15, 15, 15],\n",
       "          [ 4,  4,  4,  ..., 15, 15, 16],\n",
       "          ...,\n",
       "          [ 4,  4,  4,  ...,  4,  4,  4],\n",
       "          [ 4,  4,  4,  ...,  4,  4,  4],\n",
       "          [ 4,  4,  4,  ...,  4,  4,  4]]]], dtype=torch.uint8)"
      ]
     },
     "execution_count": 3,
     "metadata": {},
     "output_type": "execute_result"
    }
   ],
   "source": [
    "dataset = EpicKitchens100Dataset(r\"C:\\Users\\Jani\\EPIC-KITCHENS\", r\"annotations\\train_till_P105.csv\")\n",
    "dataset[0][\"frames\"]"
   ]
  },
  {
   "cell_type": "code",
   "execution_count": 4,
   "metadata": {},
   "outputs": [
    {
     "data": {
      "text/plain": [
       "np.int64(3)"
      ]
     },
     "execution_count": 4,
     "metadata": {},
     "output_type": "execute_result"
    }
   ],
   "source": [
    "dataset[0]['verb_class']"
   ]
  },
  {
   "cell_type": "code",
   "execution_count": 5,
   "metadata": {},
   "outputs": [
    {
     "data": {
      "text/plain": [
       "torch.Size([112, 3, 256, 456])"
      ]
     },
     "execution_count": 5,
     "metadata": {},
     "output_type": "execute_result"
    }
   ],
   "source": [
    "dataset[35][\"frames\"].shape"
   ]
  },
  {
   "cell_type": "markdown",
   "metadata": {},
   "source": [
    "#### Check transforms"
   ]
  },
  {
   "cell_type": "code",
   "execution_count": 8,
   "metadata": {},
   "outputs": [],
   "source": [
    "from torchvision.transforms import Compose, Lambda\n",
    "from torchvision.transforms import Normalize, CenterCrop\n",
    "from src.transforms import FixedSizeClipSampler, TransformKey, PackPathway\n",
    "\n",
    "mean = [0.45, 0.45, 0.45]\n",
    "std = [0.225, 0.225, 0.225]\n",
    "crop_size = 256\n",
    "train_transform = Compose(\n",
    "    [\n",
    "        FixedSizeClipSampler(num_frames=32),\n",
    "        Lambda(lambda x: x / 255.0),\n",
    "        Normalize(mean, std),\n",
    "        CenterCrop(crop_size),\n",
    "        Lambda(lambda x: x.permute(1, 0, 2, 3)),\n",
    "        PackPathway()\n",
    "    ]\n",
    ")\n",
    "train_transform = TransformKey(\"frames\", train_transform)"
   ]
  },
  {
   "cell_type": "code",
   "execution_count": 9,
   "metadata": {},
   "outputs": [],
   "source": [
    "dataset_transformed = EpicKitchens100Dataset(r\"C:\\Users\\Jani\\EPIC-KITCHENS\", r\"annotations\\train_till_P105.csv\", transform=train_transform)"
   ]
  },
  {
   "cell_type": "code",
   "execution_count": 14,
   "metadata": {},
   "outputs": [
    {
     "data": {
      "text/plain": [
       "(torch.Size([3, 8, 256, 256]), torch.Size([3, 32, 256, 256]))"
      ]
     },
     "execution_count": 14,
     "metadata": {},
     "output_type": "execute_result"
    }
   ],
   "source": [
    "dataset_transformed[0][\"frames\"][0].shape, dataset_transformed[0][\"frames\"][1].shape"
   ]
  }
 ],
 "metadata": {
  "kernelspec": {
   "display_name": ".venv",
   "language": "python",
   "name": "python3"
  },
  "language_info": {
   "codemirror_mode": {
    "name": "ipython",
    "version": 3
   },
   "file_extension": ".py",
   "mimetype": "text/x-python",
   "name": "python",
   "nbconvert_exporter": "python",
   "pygments_lexer": "ipython3",
   "version": "3.12.9"
  }
 },
 "nbformat": 4,
 "nbformat_minor": 2
}
